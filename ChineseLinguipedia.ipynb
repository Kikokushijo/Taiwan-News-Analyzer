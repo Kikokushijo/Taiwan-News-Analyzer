{
 "cells": [
  {
   "cell_type": "code",
   "execution_count": 1,
   "metadata": {},
   "outputs": [],
   "source": [
    "import csv\n",
    "import datetime\n",
    "import itertools\n",
    "import os\n",
    "import re\n",
    "import requests\n",
    "import sys\n",
    "import time\n",
    "from copy import deepcopy\n",
    "from collections import namedtuple, defaultdict\n",
    "\n",
    "from bs4 import BeautifulSoup as BS\n",
    "from tenacity import retry, stop_after_attempt\n",
    "import simplejson as json\n",
    "from selenium import webdriver\n",
    "from opencc import OpenCC"
   ]
  },
  {
   "cell_type": "code",
   "execution_count": 2,
   "metadata": {},
   "outputs": [],
   "source": [
    "class WordsCrawler(object):\n",
    "    \n",
    "    def __init__(self, output_dir):\n",
    "        \n",
    "        self.session = requests.Session()\n",
    "        self.headers = {\n",
    "            \"Accept\": \"text/html,application/xhtml+xml,application/xml;q=0.9,image/webp,image/apng,*/*;q=0.8\",\n",
    "            \"Accept-Encoding\": \"gzip, deflate, br\",\n",
    "            \"Accept-Language\": \"zh-TW,zh;q=0.9,en-US;q=0.8,en;q=0.7,ja;q=0.6\",\n",
    "            \"Connection\": \"keep-alive\",\n",
    "            \"Referer\": \"https://www.google.com.tw/\",\n",
    "            \"User-Agent\": \"Mozilla/5.0 (X11; Linux x86_64) AppleWebKit/537.36 (KHTML, like Gecko) \"\\\n",
    "                          \"Chrome/69.0.3497.92 Safari/537.36\"\n",
    "        }\n",
    "        self.scroll_pause_time = 0.3\n",
    "        self.driver = webdriver.PhantomJS(executable_path='../phantomjs-2.1.1-linux-x86_64/bin/phantomjs')\n",
    "        self.output_dir = output_dir\n",
    "    \n",
    "    @retry(stop=stop_after_attempt(3))\n",
    "    def get_bsObj(self, url):\n",
    "        \n",
    "        req = self.session.get(url, headers=self.headers)\n",
    "        if req.url != url:\n",
    "            return None\n",
    "        bsObj = BS(req.text, \"html.parser\")\n",
    "        return bsObj\n",
    "    \n",
    "    def url_generator(self):\n",
    "        for i in range(1, 242):\n",
    "            yield \"http://bs.chinese-linguipedia.org/api/web/diff/search?category=&page=%s&word=&type=\" % i\n",
    "            \n",
    "    def crawl_and_save(self):\n",
    "        \n",
    "        cc = OpenCC('s2t')\n",
    "        os.makedirs(self.output_dir, exist_ok=True)\n",
    "        \n",
    "        with open(os.path.join(self.output_dir, 'words.csv'), 'w+', encoding='utf-8') as csvfile:\n",
    "            \n",
    "            writer = csv.writer(csvfile)\n",
    "            writer.writerow(['type', 'category', 'tw_word', 'cn_word'])\n",
    "        \n",
    "            for url in self.url_generator():\n",
    "                res = words_crawler.session.get(url, headers=words_crawler.headers)\n",
    "                word_pairs = json.loads(res.text)['data']['data']\n",
    "                for word_pair in word_pairs:\n",
    "                    writer.writerow([word_pair['type'], word_pair['category'], word_pair['tw_word'], cc.convert(word_pair['cn_word'])])"
   ]
  },
  {
   "cell_type": "code",
   "execution_count": 3,
   "metadata": {},
   "outputs": [
    {
     "name": "stderr",
     "output_type": "stream",
     "text": [
      "/home/mercedes/VirtualEnvs/SDML/lib/python3.6/site-packages/selenium/webdriver/phantomjs/webdriver.py:49: UserWarning: Selenium support for PhantomJS has been deprecated, please use headless versions of Chrome or Firefox instead\n",
      "  warnings.warn('Selenium support for PhantomJS has been deprecated, please use headless '\n"
     ]
    }
   ],
   "source": [
    "words_crawler = WordsCrawler('words')\n",
    "words_crawler.crawl_and_save()"
   ]
  }
 ],
 "metadata": {
  "kernelspec": {
   "display_name": "Python 3",
   "language": "python",
   "name": "python3"
  },
  "language_info": {
   "codemirror_mode": {
    "name": "ipython",
    "version": 3
   },
   "file_extension": ".py",
   "mimetype": "text/x-python",
   "name": "python",
   "nbconvert_exporter": "python",
   "pygments_lexer": "ipython3",
   "version": "3.6.7"
  }
 },
 "nbformat": 4,
 "nbformat_minor": 2
}
