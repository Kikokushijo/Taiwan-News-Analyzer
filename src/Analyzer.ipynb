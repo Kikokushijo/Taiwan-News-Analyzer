{
 "cells": [
  {
   "cell_type": "code",
   "execution_count": 1,
   "metadata": {},
   "outputs": [],
   "source": [
    "from copy import copy\n",
    "import pandas as pd\n",
    "import numpy as np\n",
    "\n",
    "from collections import Counter"
   ]
  },
  {
   "cell_type": "code",
   "execution_count": 2,
   "metadata": {},
   "outputs": [],
   "source": [
    "class Analyzer(object):\n",
    "    \n",
    "    def __init__(self, csv_filename, blacklist_filename):\n",
    "        \n",
    "        self.csv_filename = csv_filename\n",
    "        self.blacklist_filename = blacklist_filename\n",
    "        self.df = pd.read_csv(csv_filename)\n",
    "        self.build_blacklist_word()\n",
    "    \n",
    "    def build_blacklist_word(self):\n",
    "        \n",
    "        self.blacklist_words = set()\n",
    "        with open(self.blacklist_filename, 'r', encoding='utf-8') as f:\n",
    "            for line in f:\n",
    "                self.blacklist_words.add(line.strip())\n",
    "\n",
    "    \n",
    "    def word_ranking(self):\n",
    "        \n",
    "        counter = Counter()\n",
    "        for word_freq_str in self.df['Word Frequency']:\n",
    "            if type(word_freq_str) is str:\n",
    "                word_freq_pair = [ i.split(':') for i in word_freq_str.split('/')]\n",
    "                for word, freq in word_freq_pair:\n",
    "                    if word not in self.blacklist_words:\n",
    "                        counter[word] += 1\n",
    "                \n",
    "        most_common = counter.most_common()\n",
    "        return pd.DataFrame(most_common, columns = ['Word' , 'Frequency']) \n",
    "    \n",
    "    def category_article_count(self):\n",
    "        _df = copy(self.df)\n",
    "        _df['Word Frequency'] = 1 - (_df['Word Frequency'].isnull()).astype(int)\n",
    "        _df['Article Count'] = 1\n",
    "        _df = _df.groupby(['Media','Category']).agg(sum).reset_index()\n",
    "        return _df\n",
    "    \n",
    "    def determine_date(self, date_str):\n",
    "        if date_str < '2017-12-11':\n",
    "            return 1\n",
    "        elif date_str < '2018-12-11':\n",
    "            return 2\n",
    "        elif date_str < '2019-12-10':\n",
    "            return 3\n",
    "        else:\n",
    "            return 4\n",
    "    \n",
    "    def year_article_count(self):\n",
    "        _df = copy(self.df)\n",
    "        _df['Word Frequency'] = 1 - (_df['Word Frequency'].isnull()).astype(int)\n",
    "        _df['Article Count'] = 1\n",
    "        _df['Year'] = _df['Date'].apply(self.determine_date)\n",
    "        _df = _df.groupby(['Media','Year']).agg(sum).reset_index()\n",
    "        return _df\n",
    "        "
   ]
  },
  {
   "cell_type": "code",
   "execution_count": 3,
   "metadata": {},
   "outputs": [],
   "source": [
    "analyzer = Analyzer(csv_filename='../result/article_words.csv', blacklist_filename='../words/analyze_black_list.txt')"
   ]
  },
  {
   "cell_type": "code",
   "execution_count": 4,
   "metadata": {
    "scrolled": true
   },
   "outputs": [],
   "source": [
    "analyzer.word_ranking().to_csv('../result/word_ranking.csv', index=False, encoding='utf_8_sig')"
   ]
  },
  {
   "cell_type": "code",
   "execution_count": 5,
   "metadata": {},
   "outputs": [],
   "source": [
    "analyzer.category_article_count().to_csv('../result/category_article_count.csv', index=False, encoding='utf_8_sig')"
   ]
  },
  {
   "cell_type": "code",
   "execution_count": 6,
   "metadata": {},
   "outputs": [],
   "source": [
    "analyzer.year_article_count().to_csv('../result/year_article_count.csv', index=False, encoding='utf_8_sig')"
   ]
  },
  {
   "cell_type": "code",
   "execution_count": null,
   "metadata": {},
   "outputs": [],
   "source": []
  }
 ],
 "metadata": {
  "kernelspec": {
   "display_name": "Python 3",
   "language": "python",
   "name": "python3"
  },
  "language_info": {
   "codemirror_mode": {
    "name": "ipython",
    "version": 3
   },
   "file_extension": ".py",
   "mimetype": "text/x-python",
   "name": "python",
   "nbconvert_exporter": "python",
   "pygments_lexer": "ipython3",
   "version": "3.6.7"
  }
 },
 "nbformat": 4,
 "nbformat_minor": 2
}
