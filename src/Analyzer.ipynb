{
 "cells": [
  {
   "cell_type": "code",
   "execution_count": null,
   "metadata": {},
   "outputs": [],
   "source": [
    "from collections import defaultdict, Counter\n",
    "from functools import reduce\n",
    "import glob\n",
    "\n",
    "import pandas as pd\n",
    "import simplejson as json"
   ]
  },
  {
   "cell_type": "code",
   "execution_count": null,
   "metadata": {},
   "outputs": [],
   "source": [
    "words_filename = '../words/words.csv'"
   ]
  },
  {
   "cell_type": "code",
   "execution_count": null,
   "metadata": {},
   "outputs": [],
   "source": [
    "def wordlist_to_wordset(word_list):\n",
    "    words = []\n",
    "    for word_group in word_list:\n",
    "        if type(word_group) is str:\n",
    "            words.extend([c.strip() for c in word_group.split('/')])\n",
    "    return set(words)\n",
    "\n",
    "def build_tw_cn_dict(tw_word_list, cn_word_list):\n",
    "    \n",
    "    tw2cn = defaultdict(list)\n",
    "    cn2tw = defaultdict(list)\n",
    "    \n",
    "    for tw_word_group, cn_word_group in zip(tw_word_list, cn_word_list):\n",
    "        if type(tw_word_group) is str:\n",
    "            tw_words = [c.strip() for c in tw_word_group.split('/')]\n",
    "        else:\n",
    "            tw_words = [None]\n",
    "        \n",
    "        if type(cn_word_group) is str:\n",
    "            cn_words = [c.strip() for c in cn_word_group.split('/')]\n",
    "        else:\n",
    "            tw_words = [None]\n",
    "            \n",
    "        for tw_word in tw_words:\n",
    "            for cn_word in cn_words:\n",
    "                tw2cn[tw_word].append(cn_word)\n",
    "                cn2tw[cn_word].append(tw_word)\n",
    "    \n",
    "    return tw2cn, cn2tw\n",
    "\n",
    "def new_defined_wordset(tw_word_list, cn_word_list):\n",
    "    \n",
    "    wordset = set()\n",
    "    for tw_word_group, cn_word_group in zip(tw_word_list, cn_word_list):\n",
    "        if type(tw_word_group) is str and type(cn_word_group) is str:\n",
    "            tw_words = [c.strip() for c in tw_word_group.split('/')]\n",
    "            cn_words = set([c.strip() for c in cn_word_group.split('/')])\n",
    "            for cn_word in cn_words:\n",
    "                for tw_word in tw_words:\n",
    "                    if cn_word in tw_word:\n",
    "                        break\n",
    "                else:\n",
    "                    wordset.add(cn_word)\n",
    "    \n",
    "    wordset -= wordlist_to_wordset(tw_word_list)\n",
    "    return wordset\n",
    "\n",
    "df = pd.read_csv(words_filename)\n",
    "cn_word_list = df['cn_word'].tolist()\n",
    "tw_word_list = df['tw_word'].tolist()\n",
    "cn_word_set = wordlist_to_wordset(cn_word_list)\n",
    "tw_word_set = wordlist_to_wordset(tw_word_list)\n",
    "# filtered_word_set = cn_word_set - tw_word_set\n",
    "filtered_word_set = new_defined_wordset(tw_word_list, cn_word_list)\n",
    "tw2cn, cn2tw = build_tw_cn_dict(tw_word_list, cn_word_list)"
   ]
  },
  {
   "cell_type": "code",
   "execution_count": null,
   "metadata": {},
   "outputs": [],
   "source": [
    "def find_cn_words(article, word_set):\n",
    "    cn_word_count = Counter()\n",
    "    for cn_word in word_set:\n",
    "        if cn_word in article:\n",
    "            cn_word_count[cn_word] += 1\n",
    "    return cn_word_count"
   ]
  },
  {
   "cell_type": "code",
   "execution_count": null,
   "metadata": {},
   "outputs": [],
   "source": [
    "freq_counter = Counter()\n",
    "for filename in glob.glob('../news/*/*/*'):\n",
    "    with open(filename, 'r', encoding='utf-8') as f:\n",
    "        article = json.load(f)\n",
    "        result = find_cn_words(article['content'], filtered_word_set)\n",
    "        if result:\n",
    "            print(article['url'], result)\n",
    "            freq_counter += result"
   ]
  }
 ],
 "metadata": {
  "kernelspec": {
   "display_name": "Python 3",
   "language": "python",
   "name": "python3"
  },
  "language_info": {
   "codemirror_mode": {
    "name": "ipython",
    "version": 3
   },
   "file_extension": ".py",
   "mimetype": "text/x-python",
   "name": "python",
   "nbconvert_exporter": "python",
   "pygments_lexer": "ipython3",
   "version": "3.6.7"
  }
 },
 "nbformat": 4,
 "nbformat_minor": 2
}
